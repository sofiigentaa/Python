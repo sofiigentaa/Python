{
  "nbformat": 4,
  "nbformat_minor": 0,
  "metadata": {
    "colab": {
      "provenance": [],
      "include_colab_link": true
    },
    "kernelspec": {
      "name": "python3",
      "display_name": "Python 3"
    },
    "language_info": {
      "name": "python"
    }
  },
  "cells": [
    {
      "cell_type": "markdown",
      "metadata": {
        "id": "view-in-github",
        "colab_type": "text"
      },
      "source": [
        "<a href=\"https://colab.research.google.com/github/sofiigentaa/Python/blob/Google-Colab/Estructuras_de_control_Range_Funciones.ipynb\" target=\"_parent\"><img src=\"https://colab.research.google.com/assets/colab-badge.svg\" alt=\"Open In Colab\"/></a>"
      ]
    },
    {
      "cell_type": "markdown",
      "metadata": {
        "id": "vbNmoTRnB9l0"
      },
      "source": [
        "#ESTRUCTURAS DE CONTROL DE FLUJO \n",
        "##(CONDICIONALES / ITERATIVAS)\n",
        "###CONDICIONALES\n",
        "####if\n",
        "####if-else\n",
        "####if-elif\n",
        "####if-if-if"
      ]
    },
    {
      "cell_type": "code",
      "metadata": {
        "id": "J4IsjQQWCo1z",
        "outputId": "76658317-b19b-4c70-939e-de81613fc52f",
        "colab": {
          "base_uri": "https://localhost:8080/"
        }
      },
      "source": [
        "num = 1\n",
        "if num < 10:\n",
        "  print(\"Es menor que 10\")  \n",
        "  print(\"Estoy aquí\")\n",
        "print(\"Ahora aquí\")\n"
      ],
      "execution_count": null,
      "outputs": [
        {
          "output_type": "stream",
          "name": "stdout",
          "text": [
            "Es menor que 10\n",
            "Estoy aquí\n",
            "Ahora aquí\n"
          ]
        }
      ]
    },
    {
      "cell_type": "code",
      "source": [
        "num = 17\n",
        "if num < 10:\n",
        "  print(\"Es menor que 10\")  \n",
        "  print(\"Estoy aquí\")\n",
        "else:\n",
        "  print(\"Es mayor o es igual a 10\")\n",
        "  print(\"Sigo aquí\")  \n",
        "print(\"Ahora aquí\")"
      ],
      "metadata": {
        "colab": {
          "base_uri": "https://localhost:8080/"
        },
        "id": "msLx2Thw67U2",
        "outputId": "be39c38c-bf41-4dfa-c209-2dab3160b864"
      },
      "execution_count": null,
      "outputs": [
        {
          "output_type": "stream",
          "name": "stdout",
          "text": [
            "Es mayor o es igual a 10\n",
            "Sigo aquí\n",
            "Ahora aquí\n"
          ]
        }
      ]
    },
    {
      "cell_type": "code",
      "source": [
        "num = 6\n",
        "if num < 10:\n",
        "  print(\"Es menor que 10\")  \n",
        "  print(\"Estoy aquí\")\n",
        "elif num == 10:\n",
        "  print(\"Es igual a 10\")  \n",
        "else:\n",
        "  print(\"Es mayor que 10\")\n",
        "  print(\"Sigo aquí\")  \n",
        "print(\"Ahora aquí\")\n",
        "\n",
        "# NOTAS: Sólo puede haber UN ELSE por cada if. Puedo tener todos los elif que necesite -> elif reemplaza la estructura switch... case"
      ],
      "metadata": {
        "colab": {
          "base_uri": "https://localhost:8080/"
        },
        "id": "8WMyjnji7JsF",
        "outputId": "9383c21e-0731-46e8-f534-8d9374337919"
      },
      "execution_count": null,
      "outputs": [
        {
          "output_type": "stream",
          "name": "stdout",
          "text": [
            "Es menor que 10\n",
            "Estoy aquí\n",
            "Ahora aquí\n"
          ]
        }
      ]
    },
    {
      "cell_type": "code",
      "source": [
        "nro = int(input(\"Ingrese un nro [1-7]: \"))\n",
        "if nro == 1:\n",
        "  print(\"Lunes\")\n",
        "  print(\"Clase de yoga\")\n",
        "elif nro == 2:\n",
        "  print(\"Martes\")\n",
        "  print(\"Clase de kazajo\")\n",
        "elif nro == 3:\n",
        "  print(\"Miércoles\")\n",
        "  print(\"Ensayo del coro\")\n",
        "elif nro == 4:\n",
        "  print(\"Jueves\")\n",
        "  print(\"Sesión de zen shiatsu\")\n",
        "elif nro == 5:\n",
        "  print(\"Viernes\")\n",
        "  print(\"Y tu cuerpa lo sabe\")\n",
        "elif nro == 6:\n",
        "  print(\"Sábado\")\n",
        "  print(\"Juntada con las brujas\")\n",
        "elif nro == 7:\n",
        "  print(\"Domingo\")\n",
        "  print(\"Siesta\")\n",
        "else:\n",
        "  print(\"Ingreso no válido\")\n",
        "\n",
        "  '''\n",
        "  if...\n",
        "  elif... -> else + if\n",
        "  else\n",
        "  '''"
      ],
      "metadata": {
        "colab": {
          "base_uri": "https://localhost:8080/"
        },
        "id": "stGa5y_87ZzW",
        "outputId": "eab3693a-532f-4248-e224-8d2672c26cd4"
      },
      "execution_count": null,
      "outputs": [
        {
          "output_type": "stream",
          "name": "stdout",
          "text": [
            "Ingrese un nro [1-7]: 5\n",
            "Viernes\n",
            "Y tu cuerpa lo sabe\n"
          ]
        }
      ]
    },
    {
      "cell_type": "code",
      "source": [
        "nro = int(input(\"Ingrese nro: \"))\n",
        "if nro < 10:\n",
        "  if nro % 2 == 0:\n",
        "    print(\"Es par\")\n",
        "  else:\n",
        "    print(\"Es impar\")  \n",
        "else:\n",
        "  print(\"Ese nro no sirve\")"
      ],
      "metadata": {
        "colab": {
          "base_uri": "https://localhost:8080/"
        },
        "id": "Ej5VV_Bj7kj8",
        "outputId": "17e1c58e-0dda-447f-fcf9-74dd0fd6618e"
      },
      "execution_count": null,
      "outputs": [
        {
          "output_type": "stream",
          "name": "stdout",
          "text": [
            "Ingrese nro: 5\n",
            "Es impar\n"
          ]
        }
      ]
    },
    {
      "cell_type": "markdown",
      "metadata": {
        "id": "GztqkykiGVQ5"
      },
      "source": [
        "###ITERATIVAS O BUCLES\n",
        "####while / for\n",
        "###while\n",
        "Se ejecuta el mismo bloque de código reiteradas veces, mientras una condición permanece verdadera\n",
        "\n",
        "**IMPORTANTE: ** me tengo que asegurar de crear las condiciones para que la expresión del while cambie su valor de verdad en algún momento para poder salir del bucle. (BUCLE INFINITO)\n"
      ]
    },
    {
      "cell_type": "code",
      "source": [
        "num = 5\n",
        "while num < 10:  \n",
        "  print(num)\n",
        "  print(\"Estoy en un while\")\n",
        "  num += 1\n",
        "print(\"Estoy acá\")"
      ],
      "metadata": {
        "id": "FhBmmj-M7ozM",
        "colab": {
          "base_uri": "https://localhost:8080/"
        },
        "outputId": "0d7690d0-735a-4839-f6ca-5a44b4cabc34"
      },
      "execution_count": null,
      "outputs": [
        {
          "output_type": "stream",
          "name": "stdout",
          "text": [
            "5\n",
            "Estoy en un while\n",
            "6\n",
            "Estoy en un while\n",
            "7\n",
            "Estoy en un while\n",
            "8\n",
            "Estoy en un while\n",
            "9\n",
            "Estoy en un while\n",
            "Estoy acá\n"
          ]
        }
      ]
    },
    {
      "cell_type": "code",
      "source": [
        "respuesta = \"\"\n",
        "while respuesta != \"salir\":\n",
        "  respuesta = input(\"Ingrese instrucción - Ingrese 'Salir' para terminar: \")\n",
        "print(\"Adiós!\")"
      ],
      "metadata": {
        "colab": {
          "base_uri": "https://localhost:8080/"
        },
        "id": "drhiwTma9JfC",
        "outputId": "cfd8e8c1-3ab0-46ad-d76f-845c32a96ef3"
      },
      "execution_count": null,
      "outputs": [
        {
          "output_type": "stream",
          "name": "stdout",
          "text": [
            "Ingrese instrucción - Ingrese 'Salir' para terminar: sumar\n",
            "Ingrese instrucción - Ingrese 'Salir' para terminar: restar\n",
            "Ingrese instrucción - Ingrese 'Salir' para terminar: salir\n",
            "Adiós!\n"
          ]
        }
      ]
    },
    {
      "cell_type": "code",
      "source": [
        "''' \n",
        "DESAFÍO:\n",
        "Crear un programa que calcule el promedio de una cantidad desconocida de valores\n",
        "El programa termina cuando el usuario ingresa un 0\n",
        "'''\n",
        "\n",
        "numero = -1\n",
        "contador = 0\n",
        "sum = 0\n",
        "while numero != 0:\n",
        "    numero = int(input(\"Ingrese un numero - Ingrese 0 para terminar: \"))\n",
        "    contador = contador + 1\n",
        "    sum = sum + numero\n",
        "print(\"El promedio de los numeros es\", (sum/(contador-1)))\n"
      ],
      "metadata": {
        "colab": {
          "base_uri": "https://localhost:8080/"
        },
        "id": "o29H9zGQ9SHo",
        "outputId": "74be10a5-fc4e-4296-d798-599d75d42da0"
      },
      "execution_count": 25,
      "outputs": [
        {
          "output_type": "stream",
          "name": "stdout",
          "text": [
            "Ingrese un numero - Ingrese 0 para terminar: 5\n",
            "Ingrese un numero - Ingrese 0 para terminar: 2\n",
            "Ingrese un numero - Ingrese 0 para terminar: 0\n",
            "El promedio de los numeros es 3.5\n"
          ]
        }
      ]
    },
    {
      "cell_type": "markdown",
      "source": [
        "###Listas"
      ],
      "metadata": {
        "id": "iZa2DBurRwzS"
      }
    },
    {
      "cell_type": "code",
      "source": [
        "lista = [1, True, \"hola\", 24.89, [90, False], \"jirafa\", \"rinoceronte\", (5, \"Juana\")]\n",
        "print(lista[3]**2)\n",
        "print(not lista[1])\n",
        "print(lista[-1])"
      ],
      "metadata": {
        "colab": {
          "base_uri": "https://localhost:8080/"
        },
        "id": "Dj987gtMTCkp",
        "outputId": "89ab29ee-da1e-4277-f184-4147ff420a63"
      },
      "execution_count": 27,
      "outputs": [
        {
          "output_type": "stream",
          "name": "stdout",
          "text": [
            "619.5121\n",
            "False\n",
            "(5, 'Juana')\n"
          ]
        }
      ]
    },
    {
      "cell_type": "markdown",
      "metadata": {
        "id": "JAoXIBJyIIym"
      },
      "source": [
        "###for\n",
        "Recorre un objeto iterable o repite un fragmento de código una determinada cantidad de veces (método range)"
      ]
    },
    {
      "cell_type": "code",
      "metadata": {
        "id": "S5oZlxhxJhnl",
        "colab": {
          "base_uri": "https://localhost:8080/"
        },
        "outputId": "890f38de-ffc5-45ff-9c46-a1c222d16818"
      },
      "source": [
        "# MÉTODO x ITERABLE\n",
        "lista = [1, True, \"hola\", 24.89, [89, False], \"jirafa\", \"rinoceronte\",(5, \"Juana\")]\n",
        "for elemento in lista:\n",
        "  print(elemento)\n",
        "  print(\"Acabo de imprimir un elemento\")\n",
        "print(\"Chao\")"
      ],
      "execution_count": 28,
      "outputs": [
        {
          "output_type": "stream",
          "name": "stdout",
          "text": [
            "1\n",
            "Acabo de imprimir un elemento\n",
            "True\n",
            "Acabo de imprimir un elemento\n",
            "hola\n",
            "Acabo de imprimir un elemento\n",
            "24.89\n",
            "Acabo de imprimir un elemento\n",
            "[89, False]\n",
            "Acabo de imprimir un elemento\n",
            "jirafa\n",
            "Acabo de imprimir un elemento\n",
            "rinoceronte\n",
            "Acabo de imprimir un elemento\n",
            "(5, 'Juana')\n",
            "Acabo de imprimir un elemento\n",
            "Chao\n"
          ]
        }
      ]
    },
    {
      "cell_type": "code",
      "source": [
        "# MÉTODO range() -> para repetir una serie de instrucciones una determinada cantidad de veces\n",
        "for i in range(10): # range arranca en 0; y no incluye el límite superior\n",
        "  print(i)\n",
        "print(\"-----------------\")\n",
        "for j in range(2,10):\n",
        "  print(j)  \n",
        "print(\"-----------------\")\n",
        "for k in range(2,20,3):\n",
        "  print(k)"
      ],
      "metadata": {
        "id": "LnzKlvIXBT4x",
        "colab": {
          "base_uri": "https://localhost:8080/"
        },
        "outputId": "20a9e9db-b402-4d6d-a5b2-5dba8cf7abe1"
      },
      "execution_count": 29,
      "outputs": [
        {
          "output_type": "stream",
          "name": "stdout",
          "text": [
            "0\n",
            "1\n",
            "2\n",
            "3\n",
            "4\n",
            "5\n",
            "6\n",
            "7\n",
            "8\n",
            "9\n",
            "-----------------\n",
            "2\n",
            "3\n",
            "4\n",
            "5\n",
            "6\n",
            "7\n",
            "8\n",
            "9\n",
            "-----------------\n",
            "2\n",
            "5\n",
            "8\n",
            "11\n",
            "14\n",
            "17\n"
          ]
        }
      ]
    },
    {
      "cell_type": "markdown",
      "metadata": {
        "id": "rDoenVmZKqFn"
      },
      "source": [
        "El método que len() me indica la cantidad de elementos de mi objeto iterable (string, listas, tuplas o diccionarios)"
      ]
    },
    {
      "cell_type": "code",
      "metadata": {
        "id": "zZXDPqLuLC2K"
      },
      "source": [],
      "execution_count": null,
      "outputs": []
    },
    {
      "cell_type": "markdown",
      "metadata": {
        "id": "mlt6195CMHF4"
      },
      "source": [
        "###Breakpoints\n",
        "Rompen con el comportamiento de un bucle o función\n",
        "\n",
        "###pass\n",
        "Devuelve NULL al leer el interior de un bucle. Se usa en for, while, condicionales, funciones, clases\n",
        "\n"
      ]
    },
    {
      "cell_type": "code",
      "metadata": {
        "id": "hSGIpsgjMdPC"
      },
      "source": [],
      "execution_count": null,
      "outputs": []
    },
    {
      "cell_type": "markdown",
      "metadata": {
        "id": "B7cm8VrLNpvA"
      },
      "source": [
        "###break\n",
        "Termina el bucle actual y salta a la siguiente instrucción del programa\n"
      ]
    },
    {
      "cell_type": "code",
      "metadata": {
        "id": "MYyU5W4JNyRE"
      },
      "source": [],
      "execution_count": null,
      "outputs": []
    },
    {
      "cell_type": "markdown",
      "metadata": {
        "id": "Pwq79oE-OJ3M"
      },
      "source": [
        "###continue\n",
        "Salta a la siguiente iteración del bucle, ignorando la actual\n"
      ]
    },
    {
      "cell_type": "code",
      "metadata": {
        "id": "3yJItLb6OSB2"
      },
      "source": [],
      "execution_count": null,
      "outputs": []
    },
    {
      "cell_type": "markdown",
      "metadata": {
        "id": "nx3iMmMtQUvX"
      },
      "source": [
        "##FUNCIONES\n",
        "Una función es un bloque de código (subrutina) al que le ponemos un nombre para que podamos invocarlo (ejecución) desde otras partes del programa tantas veces como haga falta.\n",
        "Las funciones nos permiten ordenar nuestro programa en módulos.\n",
        "- Reutilizar el código\n",
        "- Ordena el código (módulos)\n",
        "- Reducimos la probabilidad de cometer errores"
      ]
    },
    {
      "cell_type": "code",
      "metadata": {
        "id": "h4u9rk6RQ7SS"
      },
      "source": [],
      "execution_count": null,
      "outputs": []
    },
    {
      "cell_type": "markdown",
      "metadata": {
        "id": "ieAg-ZK4UHDa"
      },
      "source": [
        "Los parámetros y el valor de retorno no son obligatorios.\n",
        "Si tiene parámetros, al llamr a la función, debe haber la misma cantidad que en la *definición*\n",
        "Si una función tiene valor de retorno, se puede guardar en una variable, manipularla, operar con ella. \n",
        "Si quiero saber el valor, lo tengo que imprimir."
      ]
    },
    {
      "cell_type": "code",
      "metadata": {
        "id": "eGfMWnr9UsAP"
      },
      "source": [],
      "execution_count": null,
      "outputs": []
    }
  ]
}