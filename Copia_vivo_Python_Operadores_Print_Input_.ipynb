{
  "nbformat": 4,
  "nbformat_minor": 0,
  "metadata": {
    "colab": {
      "provenance": [],
      "include_colab_link": true
    },
    "kernelspec": {
      "name": "python3",
      "display_name": "Python 3"
    },
    "language_info": {
      "name": "python"
    }
  },
  "cells": [
    {
      "cell_type": "markdown",
      "metadata": {
        "id": "view-in-github",
        "colab_type": "text"
      },
      "source": [
        "<a href=\"https://colab.research.google.com/github/sofiigentaa/Python/blob/Google-Colab/Copia_vivo_Python_Operadores_Print_Input_.ipynb\" target=\"_parent\"><img src=\"https://colab.research.google.com/assets/colab-badge.svg\" alt=\"Open In Colab\"/></a>"
      ]
    },
    {
      "cell_type": "markdown",
      "metadata": {
        "id": "mHxvXjIJz-LI"
      },
      "source": [
        "#OPERADORES\n",
        "Son símbolos que se aplican a uno o varios operandos en una expresión o instrucción con el fin de obtener cierto resultado\n",
        "\n",
        "Tipos de operadores\n",
        "\n",
        "1) OPERADORES ARITMÉTICOS\n",
        "- suma +\n",
        "- resta -\n",
        "- multiplicación *\n",
        "- potencia **\n",
        "- división / \n",
        "- división entera //\n",
        "- módulo (resto de la división) %\n",
        "\n",
        "\n"
      ]
    },
    {
      "cell_type": "code",
      "source": [
        "numero = 500\n",
        "'''print(numero)\n",
        "print(numero + 50)\n",
        "print(56 + 120) # puedo sumar números'''\n",
        "#print(numero - 150)\n",
        "#print(numero * 3)\n",
        "#print(numero ** 2)\n",
        "#print(numero * numero)\n",
        "\n",
        "# DIVISIÓN\n",
        "print(numero / 3) # división con decimales\n",
        "print(numero // 3) # parte entera de la división\n",
        "print(numero % 3) # resto de la división"
      ],
      "metadata": {
        "id": "trDNb8D4sCh8",
        "colab": {
          "base_uri": "https://localhost:8080/"
        },
        "outputId": "a2ed1b94-a9c0-4144-bd2f-e8f1a326e931"
      },
      "execution_count": 3,
      "outputs": [
        {
          "output_type": "stream",
          "name": "stdout",
          "text": [
            "166.66666666666666\n",
            "166\n",
            "2\n"
          ]
        }
      ]
    },
    {
      "cell_type": "markdown",
      "metadata": {
        "id": "jGTJ9za31X7L"
      },
      "source": [
        "También puedo usar * para strings (cadenas de texto) "
      ]
    },
    {
      "cell_type": "code",
      "source": [
        "nombre = \"Juana\"\n",
        "apellido = \"Alvarez\"\n",
        "edad = 32\n",
        "# print(nombre + \" \" + apellido)\n",
        "# nomape = nombre + \" \" + apellido\n",
        "# print(nomape)\n",
        "# print(nombre + edad) # se rompe por tipado fuerte\n",
        "print(nombre, edad)\n",
        "print(nombre * 3) #los pone juntos\n",
        "print((nombre + \" \") * 3)\n",
        "print(\"Nombre:\", nombre,\"- Edad:\", edad)"
      ],
      "metadata": {
        "id": "5Dypsbvs3wvF",
        "colab": {
          "base_uri": "https://localhost:8080/"
        },
        "outputId": "e51a7f07-67d0-4d8e-831d-bafa7e73c1e9"
      },
      "execution_count": null,
      "outputs": [
        {
          "output_type": "stream",
          "name": "stdout",
          "text": [
            "Juana 32\n",
            "JuanaJuanaJuana\n",
            "Juana Juana Juana \n",
            "Nombre: Juana - Edad: 32\n"
          ]
        }
      ]
    },
    {
      "cell_type": "markdown",
      "metadata": {
        "id": "jonq0jC616wM"
      },
      "source": [
        "2) OPERADORES DE ASIGNACIÓN\n",
        "Dada una variable, puedo asignarle un valor, escribiendo\n",
        "\n",
        "\n",
        "a = 5 # el operador **igual a**\n",
        "\n",
        "\n",
        "a += 4 # toma el valor actual de a y le suma 4 -> ahora vale 9  \n",
        "\n",
        "\n",
        "a -= 3 # toma el valor actual de a y le resta 3 -> ahora vale 6\n",
        "\n",
        "\n",
        "a *= 2 # toma el valor actual de a y lo multiplica por 2 -> 12\n",
        "\n",
        "\n",
        "a /= 3\n",
        "\n",
        "\n",
        "a //=3\n",
        "\n",
        "\n",
        "a %= 3"
      ]
    },
    {
      "cell_type": "code",
      "source": [],
      "metadata": {
        "id": "5hG4Ck4quuSc"
      },
      "execution_count": null,
      "outputs": []
    },
    {
      "cell_type": "code",
      "metadata": {
        "id": "DBl7BPVJ16bF",
        "colab": {
          "base_uri": "https://localhost:8080/"
        },
        "outputId": "f1817a90-c05e-4195-ecc6-1f1f24f7fbd6"
      },
      "source": [
        "nro = 10\n",
        "# nro = nro + 20\n",
        "# nro += 20\n",
        "# nro -= 7\n",
        "# nro *= 5\n",
        "# nro /= 3\n",
        "# nro //= 3\n",
        "nro %= 3\n",
        "print(nro)"
      ],
      "execution_count": null,
      "outputs": [
        {
          "output_type": "stream",
          "name": "stdout",
          "text": [
            "1\n"
          ]
        }
      ]
    },
    {
      "cell_type": "markdown",
      "metadata": {
        "id": "jbk5FVll4QpA"
      },
      "source": [
        "3) OPERADORES RELACIONALES\n",
        "Devuelven un valor booleano. Se usan para crear los condicionales y poder alterar el flujo de nuestro programa\n",
        "Dados a y b\n",
        "\n",
        "a == b # si son iguales -> Devuelve True o False\n",
        "\n",
        "a != b # a no es igual a b\n",
        "\n",
        "a < b # a es menor que b\n",
        "\n",
        "a > b # a es mayor que b\n",
        "\n",
        "a <= b # a es menor o igual que b\n",
        "\n",
        "a >= b # a es mayor o igual que b\n",
        "\n",
        "\n",
        "\n",
        "\n"
      ]
    },
    {
      "cell_type": "code",
      "metadata": {
        "id": "vy0iOpdV5IRt",
        "colab": {
          "base_uri": "https://localhost:8080/"
        },
        "outputId": "355b2b54-ab6a-4f30-afcd-30c724b91349"
      },
      "source": [
        "n1 = 10\n",
        "n2 = 17\n",
        "# print(n1 == n2)\n",
        "# print(n1 != n2)\n",
        "# respuesta = n1 != n2\n",
        "# print(respuesta)\n",
        "print(n1 > n2)\n",
        "print(n1 < n2)\n",
        "print(n1 >= n2)\n",
        "print(n1 <= n2)\n"
      ],
      "execution_count": 5,
      "outputs": [
        {
          "output_type": "stream",
          "name": "stdout",
          "text": [
            "False\n",
            "True\n",
            "False\n",
            "True\n"
          ]
        }
      ]
    },
    {
      "cell_type": "markdown",
      "metadata": {
        "id": "9XELs8o55mr6"
      },
      "source": [
        "4) OPERADORES LÓGICOS o BOOLEANOS\n",
        "\n",
        "and # evalúa si ambos operandos son True\n",
        "\n",
        "or # evalúa si al menos uno de los operandos es True\n",
        "\n",
        "not # cambia el valor del operando"
      ]
    },
    {
      "cell_type": "code",
      "metadata": {
        "id": "GM_69VMZ54iO",
        "colab": {
          "base_uri": "https://localhost:8080/"
        },
        "outputId": "9eb13b69-1fd8-4ea4-b1c1-e648dfc07378"
      },
      "source": [
        "n1 = 10\n",
        "n2 = 29\n",
        "el1 = n1 == n2 # False\n",
        "el2 = n1 != n2 # True\n",
        "'''print(el1 or el2) # OR: para ser T, basta con que uno sea T -> TRUE\n",
        "print(el1 and el2) # AND: para ser T, TODOS tienen que ser T -> FALSE\n",
        "print(not el1)'''\n",
        "print(el2 and not el1)\n",
        "print(not (el2 and el1))\n"
      ],
      "execution_count": 6,
      "outputs": [
        {
          "output_type": "stream",
          "name": "stdout",
          "text": [
            "True\n",
            "True\n"
          ]
        }
      ]
    },
    {
      "cell_type": "markdown",
      "source": [
        "5) OPERADORES DE PERTENENCIA\n",
        "\n",
        "Devuelve True o False dependiendo de si un elemento pertenece o no a una secuencia de datos\n",
        "\n",
        "IN\n",
        "\n",
        "NOT IN"
      ],
      "metadata": {
        "id": "tgx2iKtOMx3I"
      }
    },
    {
      "cell_type": "code",
      "source": [
        "dato = [4,5,6,7,99,23,12]\n",
        "print(99 in dato)\n",
        "print(99 not in dato)\n",
        "print(49 in dato)\n",
        "print(49 not in dato)"
      ],
      "metadata": {
        "id": "9geEFIzfMyc0",
        "colab": {
          "base_uri": "https://localhost:8080/"
        },
        "outputId": "824905e9-601f-422f-d18a-38033dfd27db"
      },
      "execution_count": 7,
      "outputs": [
        {
          "output_type": "stream",
          "name": "stdout",
          "text": [
            "True\n",
            "False\n",
            "False\n",
            "True\n"
          ]
        }
      ]
    },
    {
      "cell_type": "markdown",
      "metadata": {
        "id": "9peKMzH_7PnG"
      },
      "source": [
        "ENTRADA Y SALIDA DE DATOS\n",
        "\n",
        "print() imprime por pantalla lo que le pasamos como parámetro (un dato, una variable, una expresión o una función)\n",
        "\n"
      ]
    },
    {
      "cell_type": "code",
      "metadata": {
        "id": "FdcwAMy37yEQ",
        "colab": {
          "base_uri": "https://localhost:8080/"
        },
        "outputId": "7ae1a120-62b1-45a9-81af-fcb6fd2c13a6"
      },
      "source": [
        "# print(11 + 65)\n",
        "# print(6 > 7)\n",
        "# print(\"Hola\")\n",
        "nom = \"Juana\"\n",
        "edad = 34\n",
        "salario = 130000.45\n",
        "'''print(type(nom))\n",
        "print(type(edad))\n",
        "print(type(salario))'''\n",
        "print(\"Nombre:\",nom,\"Edad:\",edad,\"Salario:\",salario)\n",
        "print(\"Nombre:\",nom,\"\\nEdad:\",edad,\"\\nSalario:\",salario) # carácter de escape \\n"
      ],
      "execution_count": 9,
      "outputs": [
        {
          "output_type": "stream",
          "name": "stdout",
          "text": [
            "Nombre: Juana Edad: 34 Salario: 130000.45\n",
            "Nombre: Juana \n",
            "Edad: 34 \n",
            "Salario: 130000.45\n"
          ]
        }
      ]
    },
    {
      "cell_type": "markdown",
      "metadata": {
        "id": "FfxrcgfU-WhO"
      },
      "source": [
        "ENTRADA DE DATOS: input()\n",
        "\n",
        "Pide un dato al usuario.Dentro de los paréntesis se puede poner un texto que le indique al usuario qué es lo que se espera que ingrese.\n",
        "\n",
        "IMPORTANTE!!!!!!!! todo dato ingresado, ingresa como cadena de texto (aunque sea un número).\n",
        "Para poder operar con números ingresados por input, hay que convertirlos."
      ]
    },
    {
      "cell_type": "code",
      "metadata": {
        "id": "RXBsThQdAn7N",
        "colab": {
          "base_uri": "https://localhost:8080/"
        },
        "outputId": "50fd0cf4-5f50-416e-e195-e761a61ed044"
      },
      "source": [
        "# nombre = input(\"Ingrese su nombre: \")\n",
        "# print(\"Hola,\",nombre)\n",
        "nacim = input(\"Ingrese su año de nacimiento:\")\n",
        "nacime = int(nacim)\n",
        "# print(type(nacime))\n",
        "print(\"Edad:\", 2022-nacime)"
      ],
      "execution_count": 10,
      "outputs": [
        {
          "output_type": "stream",
          "name": "stdout",
          "text": [
            "Ingrese su año de nacimiento:2000\n",
            "Edad: 22\n"
          ]
        }
      ]
    },
    {
      "cell_type": "code",
      "source": [
        "nacim = int(input(\"Ingrese su año de nacimiento:\"))\n",
        "print(\"Edad:\", 2022-nacim)"
      ],
      "metadata": {
        "colab": {
          "base_uri": "https://localhost:8080/"
        },
        "id": "NrXe4-zNyqUP",
        "outputId": "f07e3f37-af54-47c6-b20c-0eb3de8be9cd"
      },
      "execution_count": 11,
      "outputs": [
        {
          "output_type": "stream",
          "name": "stdout",
          "text": [
            "Ingrese su año de nacimiento:1998\n",
            "Edad: 24\n"
          ]
        }
      ]
    },
    {
      "cell_type": "code",
      "source": [
        "print(\"Edad:\", 2022-int(input(\"Ingrese su año de nacimiento:\")))"
      ],
      "metadata": {
        "colab": {
          "base_uri": "https://localhost:8080/"
        },
        "id": "ZxoUE83Xyxn1",
        "outputId": "72647d51-ce7d-44e4-fb1e-b6107a5386c5"
      },
      "execution_count": 12,
      "outputs": [
        {
          "output_type": "stream",
          "name": "stdout",
          "text": [
            "Ingrese su año de nacimiento:1987\n",
            "Edad: 35\n"
          ]
        }
      ]
    },
    {
      "cell_type": "code",
      "source": [
        "inp = float(input(\"Ingrese valor: \"))\n",
        "print(type(inp))\n",
        "print(inp)"
      ],
      "metadata": {
        "colab": {
          "base_uri": "https://localhost:8080/"
        },
        "id": "JsNxwwCAy3ME",
        "outputId": "1f6f3be4-233c-45dc-9225-bdfa6579acdc"
      },
      "execution_count": 13,
      "outputs": [
        {
          "output_type": "stream",
          "name": "stdout",
          "text": [
            "Ingrese valor: 25\n",
            "<class 'float'>\n",
            "25.0\n"
          ]
        }
      ]
    }
  ]
}